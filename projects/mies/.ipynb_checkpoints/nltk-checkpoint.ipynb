{
 "cells": [
  {
   "cell_type": "code",
   "execution_count": 1,
   "metadata": {},
   "outputs": [],
   "source": [
    "import string\n",
    "import numpy as np\n",
    "import pandas as pd\n",
    "\n",
    "import nltk\n",
    "from nltk.tokenize import sent_tokenize, word_tokenize\n",
    "from nltk.stem.porter import PorterStemmer\n",
    "\n",
    "from sklearn.pipeline import Pipeline\n",
    "from sklearn.compose import ColumnTransformer \n",
    "from sklearn.preprocessing import FunctionTransformer\n",
    "from sklearn.feature_extraction.text import TfidfVectorizer\n",
    "from sklearn.model_selection import train_test_split\n",
    "from sklearn.naive_bayes import ComplementNB\n",
    "from sklearn.metrics import confusion_matrix"
   ]
  },
  {
   "cell_type": "code",
   "execution_count": 15,
   "metadata": {},
   "outputs": [
    {
     "data": {
      "text/plain": [
       "(5460, 3)"
      ]
     },
     "execution_count": 15,
     "metadata": {},
     "output_type": "execute_result"
    }
   ],
   "source": [
    "df = pd.read_csv(\"mies_ie.csv\")\n",
    "df.shape"
   ]
  },
  {
   "cell_type": "code",
   "execution_count": 3,
   "metadata": {},
   "outputs": [],
   "source": [
    "def fn_stemmer(x):\n",
    "    stemmer = PorterStemmer()\n",
    "    def fn(y): return \" \".join([ stemmer.stem(word) for word in word_tokenize(y) ])\n",
    "    fn_v = np.vectorize(fn)\n",
    "    return fn_v(x)"
   ]
  },
  {
   "cell_type": "code",
   "execution_count": 4,
   "metadata": {},
   "outputs": [],
   "source": [
    "preprocess_pipe = Pipeline([\n",
    "    (\"col_trans\", ColumnTransformer([\n",
    "         (\"text\", Pipeline([\n",
    "             (\"stemmer\", FunctionTransformer(fn_stemmer)),\n",
    "             (\"tfidf_vectorizer\", TfidfVectorizer(\n",
    "                encoding = \"utf-8\",\n",
    "                lowercase = True,\n",
    "                stop_words =  nltk.corpus.stopwords.words('english') + (string.punctuation).split(),\n",
    "                ngram_range = (1,1),\n",
    "                max_features = None,\n",
    "                use_idf = True,\n",
    "            ))   \n",
    "         ]), \"text\"),\n",
    "    ],\n",
    "    remainder = \"passthrough\"))\n",
    "])"
   ]
  },
  {
   "cell_type": "code",
   "execution_count": 5,
   "metadata": {},
   "outputs": [],
   "source": [
    "X = df.drop(\"IE\", axis = 1)\n",
    "y = df[\"IE\"].values\n",
    "X_train, X_test, y_train, y_test = train_test_split(X, y, random_state = 42)"
   ]
  },
  {
   "cell_type": "code",
   "execution_count": 11,
   "metadata": {},
   "outputs": [
    {
     "data": {
      "text/plain": [
       "array([[0.        , 0.        , 0.08161251, ..., 0.23973173, 0.        ,\n",
       "        2.        ],\n",
       "       [0.08943755, 0.        , 0.06703988, ..., 0.14769416, 0.        ,\n",
       "        0.        ],\n",
       "       [0.        , 0.        , 0.07432499, ..., 0.21832509, 0.        ,\n",
       "        1.        ],\n",
       "       ...,\n",
       "       [0.        , 0.        , 0.        , ..., 0.2065916 , 0.09211401,\n",
       "        2.        ],\n",
       "       [0.        , 0.        , 0.06795925, ..., 0.24953264, 0.08900827,\n",
       "        1.        ],\n",
       "       [0.        , 0.        , 0.05837264, ..., 0.34293211, 0.07645241,\n",
       "        1.        ]])"
      ]
     },
     "execution_count": 11,
     "metadata": {},
     "output_type": "execute_result"
    }
   ],
   "source": [
    "X_train_prepared = preprocess_pipe.fit_transform(X_train)\n",
    "X_test_prepared =  preprocess_pipe.transform(X_test)\n",
    "X_train_prepared"
   ]
  },
  {
   "cell_type": "code",
   "execution_count": 10,
   "metadata": {},
   "outputs": [],
   "source": [
    "#preprocess_pipe[\"col_trans\"].transformers_[0][1][\"tfidf_vectorizer\"].get_feature_names()"
   ]
  },
  {
   "cell_type": "code",
   "execution_count": 13,
   "metadata": {},
   "outputs": [
    {
     "data": {
      "text/plain": [
       "0.3838827838827839"
      ]
     },
     "execution_count": 13,
     "metadata": {},
     "output_type": "execute_result"
    }
   ],
   "source": [
    "clf = ComplementNB()\n",
    "clf.fit(X_train_prepared, y_train)\n",
    "clf.score(X_test_prepared, y_test)"
   ]
  },
  {
   "cell_type": "code",
   "execution_count": 17,
   "metadata": {},
   "outputs": [
    {
     "data": {
      "text/plain": [
       "array([[366, 168, 317],\n",
       "       [ 63,  39,  64],\n",
       "       [165,  64, 119]])"
      ]
     },
     "execution_count": 17,
     "metadata": {},
     "output_type": "execute_result"
    }
   ],
   "source": [
    "confusion_matrix(y_test, clf.predict(X_test_prepared))"
   ]
  },
  {
   "cell_type": "code",
   "execution_count": null,
   "metadata": {},
   "outputs": [],
   "source": []
  }
 ],
 "metadata": {
  "kernelspec": {
   "display_name": "Python 3",
   "language": "python",
   "name": "python3"
  },
  "language_info": {
   "codemirror_mode": {
    "name": "ipython",
    "version": 3
   },
   "file_extension": ".py",
   "mimetype": "text/x-python",
   "name": "python",
   "nbconvert_exporter": "python",
   "pygments_lexer": "ipython3",
   "version": "3.8.5"
  }
 },
 "nbformat": 4,
 "nbformat_minor": 4
}
