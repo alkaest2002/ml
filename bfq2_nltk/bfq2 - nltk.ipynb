{
 "cells": [
  {
   "cell_type": "code",
   "execution_count": 1,
   "metadata": {},
   "outputs": [],
   "source": [
    "import string\n",
    "import numpy as np\n",
    "import pandas as pd\n",
    "\n",
    "import nltk\n",
    "from nltk.tokenize import sent_tokenize, word_tokenize\n",
    "from nltk.stem.snowball import SnowballStemmer\n",
    "\n",
    "from sklearn.feature_extraction.text import TfidfVectorizer\n",
    "from sklearn.pipeline import Pipeline\n",
    "from sklearn.preprocessing import FunctionTransformer\n",
    "\n"
   ]
  },
  {
   "cell_type": "code",
   "execution_count": 49,
   "metadata": {},
   "outputs": [],
   "source": [
    "corpus = [\n",
    "    u\"Nel MeZZo del cammino, di nostra vita\",\n",
    "    u\"Mi ritrovai perso. Per un'ampia selva oscura\",\n",
    "    u\"Che la diritta via e la verità erano smarrita\"\n",
    "]"
   ]
  },
  {
   "cell_type": "code",
   "execution_count": 50,
   "metadata": {},
   "outputs": [],
   "source": [
    "stop_words = nltk.corpus.stopwords.words('italian') + (string.punctuation).split()"
   ]
  },
  {
   "cell_type": "code",
   "execution_count": 51,
   "metadata": {},
   "outputs": [],
   "source": [
    "def fn_stemmer(x):\n",
    "    stemmer = SnowballStemmer(\"italian\")\n",
    "    def fn(y): return \" \".join([ stemmer.stem(word) for word in word_tokenize(y) ])\n",
    "    fn_v = np.vectorize(fn)\n",
    "    return fn_v(x)"
   ]
  },
  {
   "cell_type": "code",
   "execution_count": 52,
   "metadata": {},
   "outputs": [],
   "source": [
    "pipe = Pipeline([\n",
    "    (\"stemmer\", FunctionTransformer(fn_stemmer)),\n",
    "    (\"tfidf_vectorizer\", TfidfVectorizer(\n",
    "        encoding = \"utf-8\",\n",
    "        lowercase = True,\n",
    "        stop_words =  stop_words,\n",
    "        ngram_range = (1,1),\n",
    "        max_df = 1,\n",
    "        max_features = None,\n",
    "        use_idf = True,\n",
    "    ))\n",
    "])"
   ]
  },
  {
   "cell_type": "code",
   "execution_count": 53,
   "metadata": {},
   "outputs": [
    {
     "name": "stdout",
     "output_type": "stream",
     "text": [
      "['nel mezz del cammin , di nostr vit'\n",
      " \"mi ritrova pers . per un'amp selv oscur\"\n",
      " 'che la diritt via e la verit eran smarr']\n"
     ]
    },
    {
     "data": {
      "text/html": [
       "<div>\n",
       "<style scoped>\n",
       "    .dataframe tbody tr th:only-of-type {\n",
       "        vertical-align: middle;\n",
       "    }\n",
       "\n",
       "    .dataframe tbody tr th {\n",
       "        vertical-align: top;\n",
       "    }\n",
       "\n",
       "    .dataframe thead th {\n",
       "        text-align: right;\n",
       "    }\n",
       "</style>\n",
       "<table border=\"1\" class=\"dataframe\">\n",
       "  <thead>\n",
       "    <tr style=\"text-align: right;\">\n",
       "      <th></th>\n",
       "      <th>amp</th>\n",
       "      <th>cammin</th>\n",
       "      <th>diritt</th>\n",
       "      <th>eran</th>\n",
       "      <th>mezz</th>\n",
       "      <th>nostr</th>\n",
       "      <th>oscur</th>\n",
       "      <th>pers</th>\n",
       "      <th>ritrova</th>\n",
       "      <th>selv</th>\n",
       "      <th>smarr</th>\n",
       "      <th>verit</th>\n",
       "      <th>via</th>\n",
       "      <th>vit</th>\n",
       "    </tr>\n",
       "  </thead>\n",
       "  <tbody>\n",
       "    <tr>\n",
       "      <th>0</th>\n",
       "      <td>0.000000</td>\n",
       "      <td>0.5</td>\n",
       "      <td>0.000000</td>\n",
       "      <td>0.000000</td>\n",
       "      <td>0.5</td>\n",
       "      <td>0.5</td>\n",
       "      <td>0.000000</td>\n",
       "      <td>0.000000</td>\n",
       "      <td>0.000000</td>\n",
       "      <td>0.000000</td>\n",
       "      <td>0.000000</td>\n",
       "      <td>0.000000</td>\n",
       "      <td>0.000000</td>\n",
       "      <td>0.5</td>\n",
       "    </tr>\n",
       "    <tr>\n",
       "      <th>1</th>\n",
       "      <td>0.447214</td>\n",
       "      <td>0.0</td>\n",
       "      <td>0.000000</td>\n",
       "      <td>0.000000</td>\n",
       "      <td>0.0</td>\n",
       "      <td>0.0</td>\n",
       "      <td>0.447214</td>\n",
       "      <td>0.447214</td>\n",
       "      <td>0.447214</td>\n",
       "      <td>0.447214</td>\n",
       "      <td>0.000000</td>\n",
       "      <td>0.000000</td>\n",
       "      <td>0.000000</td>\n",
       "      <td>0.0</td>\n",
       "    </tr>\n",
       "    <tr>\n",
       "      <th>2</th>\n",
       "      <td>0.000000</td>\n",
       "      <td>0.0</td>\n",
       "      <td>0.447214</td>\n",
       "      <td>0.447214</td>\n",
       "      <td>0.0</td>\n",
       "      <td>0.0</td>\n",
       "      <td>0.000000</td>\n",
       "      <td>0.000000</td>\n",
       "      <td>0.000000</td>\n",
       "      <td>0.000000</td>\n",
       "      <td>0.447214</td>\n",
       "      <td>0.447214</td>\n",
       "      <td>0.447214</td>\n",
       "      <td>0.0</td>\n",
       "    </tr>\n",
       "  </tbody>\n",
       "</table>\n",
       "</div>"
      ],
      "text/plain": [
       "        amp  cammin    diritt      eran  mezz  nostr     oscur      pers  \\\n",
       "0  0.000000     0.5  0.000000  0.000000   0.5    0.5  0.000000  0.000000   \n",
       "1  0.447214     0.0  0.000000  0.000000   0.0    0.0  0.447214  0.447214   \n",
       "2  0.000000     0.0  0.447214  0.447214   0.0    0.0  0.000000  0.000000   \n",
       "\n",
       "    ritrova      selv     smarr     verit       via  vit  \n",
       "0  0.000000  0.000000  0.000000  0.000000  0.000000  0.5  \n",
       "1  0.447214  0.447214  0.000000  0.000000  0.000000  0.0  \n",
       "2  0.000000  0.000000  0.447214  0.447214  0.447214  0.0  "
      ]
     },
     "execution_count": 53,
     "metadata": {},
     "output_type": "execute_result"
    }
   ],
   "source": [
    "e = pipe.fit_transform(corpus)\n",
    "\n",
    "pd.DataFrame(data = e.todense(), columns = pipe[\"tfidf_vectorizer\"].get_feature_names())"
   ]
  },
  {
   "cell_type": "code",
   "execution_count": null,
   "metadata": {},
   "outputs": [],
   "source": []
  }
 ],
 "metadata": {
  "kernelspec": {
   "display_name": "Python 3",
   "language": "python",
   "name": "python3"
  },
  "language_info": {
   "codemirror_mode": {
    "name": "ipython",
    "version": 3
   },
   "file_extension": ".py",
   "mimetype": "text/x-python",
   "name": "python",
   "nbconvert_exporter": "python",
   "pygments_lexer": "ipython3",
   "version": "3.8.5"
  }
 },
 "nbformat": 4,
 "nbformat_minor": 4
}
